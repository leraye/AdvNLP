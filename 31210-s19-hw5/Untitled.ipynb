{
 "cells": [
  {
   "cell_type": "code",
   "execution_count": 1,
   "metadata": {},
   "outputs": [],
   "source": [
    "import os\n",
    "from io import open"
   ]
  },
  {
   "cell_type": "code",
   "execution_count": 2,
   "metadata": {},
   "outputs": [],
   "source": [
    "import torch"
   ]
  },
  {
   "cell_type": "code",
   "execution_count": 9,
   "metadata": {},
   "outputs": [],
   "source": [
    "path = \"cbt-characters.txt\"\n",
    "labels = []\n",
    "with open(path, 'r', encoding=\"utf8\") as f:\n",
    "    for line in f:\n",
    "        N = len(line.strip())\n",
    "        l = torch.randint(0, 2, (N - 1,))\n",
    "        labels.append(l)"
   ]
  },
  {
   "cell_type": "code",
   "execution_count": 12,
   "metadata": {},
   "outputs": [],
   "source": [
    "path = \"cbt-boundaries.txt\"\n",
    "ground_truth = []\n",
    "with open(path, 'r', encoding=\"utf8\") as f:\n",
    "    for line in f:\n",
    "        "
   ]
  },
  {
   "cell_type": "code",
   "execution_count": 14,
   "metadata": {},
   "outputs": [
    {
     "name": "stdout",
     "output_type": "stream",
     "text": [
      "680060\n"
     ]
    }
   ],
   "source": [
    "total_correct = 0\n",
    "for y in ground_truth:\n",
    "    total_correct += y.eq(0).sum().item()\n",
    "print(total_correct)"
   ]
  },
  {
   "cell_type": "code",
   "execution_count": null,
   "metadata": {},
   "outputs": [],
   "source": []
  }
 ],
 "metadata": {
  "kernelspec": {
   "display_name": "Python 3",
   "language": "python",
   "name": "python3"
  },
  "language_info": {
   "codemirror_mode": {
    "name": "ipython",
    "version": 3
   },
   "file_extension": ".py",
   "mimetype": "text/x-python",
   "name": "python",
   "nbconvert_exporter": "python",
   "pygments_lexer": "ipython3",
   "version": "3.7.1"
  }
 },
 "nbformat": 4,
 "nbformat_minor": 2
}
